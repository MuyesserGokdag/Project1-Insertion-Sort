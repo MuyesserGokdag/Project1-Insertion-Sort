{
 "cells": [
  {
   "cell_type": "markdown",
   "id": "af3ea6ba-d79f-4bf8-bc43-40de0ce420e4",
   "metadata": {},
   "source": [
    "# **Insertion Sort**\n",
    "\n",
    "    [22,27,16,2,18,6] -> Insertion Sort\n",
    "\n",
    "* Aşamaları:\n",
    "\n",
    "      1) İlk sıra aynen kabul edilir, başlangıçtır.\n",
    "          --> [22,27,16,2,18,6]\n",
    "  \n",
    "      2) İkinci eleman ilk elemanla karşılaştırılır. 27 elemanı 22'den büyüktür.\n",
    "          --> [22,27,16,2,18,6]\n",
    "\n",
    "      3) Üçüncü eleman solundakilerle karşılaşıtırıp yerini alır.\n",
    "          --> [16,22,27,2,18,6]\n",
    "  \n",
    "      4) Dördüncü eleman solundakilerle karşılaştırılır.\n",
    "          --> [2,16,22,27,18,6]\n",
    "  \n",
    "      5) Beşinci eleman solundakilerle karşılaştırılır.\n",
    "          --> [2,16,18,22,27,6]\n",
    "  \n",
    "      4) Altıncı eleman solundakilerle karşılaştırılır.\n",
    "          --> [2,6,16,18,22,27]\n",
    "  \n",
    "**Son Hali -> [2,6,16,18,22,27]**\n",
    "\n",
    "## **Big O Gösterimi:** O(n²)\n",
    "## **Time Complexity:** Average case"
   ]
  },
  {
   "cell_type": "markdown",
   "id": "8c83364a-2423-4bc6-bf8c-23c55bde354a",
   "metadata": {},
   "source": [
    "# [7,3,5,8,2,9,4,15,6] dizisinin Selection Sort'a göre ilk 4 adımını yazınız.\n",
    "\n",
    "    1) En küçük eleman bulunur, 2, en baştaki elemanla, 7, yer değiştirir.\n",
    "        --> [2,3,5,8,7,9,4,15,6]\n",
    "    2) Sıradaki en küçük eleman, 3, doğru yerdedir devam edilir.\n",
    "        --> [2,3,5,8,7,9,4,15,6]\n",
    "    3) Sıradaki en küçük 4, 5 ile yer değiştirir.\n",
    "        --> [2,3,4,8,7,9,5,15,6]\n",
    "    4) Sıradaki en küçük 5, 8 ile yer değiştirir.\n",
    "        --> [2,3,4,5,7,9,8,15,6]\n",
    "\n",
    "**İlk Dört Adım ->[2,3,4,5,7,9,8,15,6]**"
   ]
  },
  {
   "cell_type": "code",
   "execution_count": null,
   "id": "fcddb755-e12a-4ac1-95a3-b7a8bcd02b5c",
   "metadata": {},
   "outputs": [],
   "source": []
  }
 ],
 "metadata": {
  "kernelspec": {
   "display_name": "Python 3 (ipykernel)",
   "language": "python",
   "name": "python3"
  },
  "language_info": {
   "codemirror_mode": {
    "name": "ipython",
    "version": 3
   },
   "file_extension": ".py",
   "mimetype": "text/x-python",
   "name": "python",
   "nbconvert_exporter": "python",
   "pygments_lexer": "ipython3",
   "version": "3.13.1"
  }
 },
 "nbformat": 4,
 "nbformat_minor": 5
}
